{
 "cells": [
  {
   "cell_type": "code",
   "execution_count": 1,
   "metadata": {
    "scrolled": true
   },
   "outputs": [
    {
     "name": "stderr",
     "output_type": "stream",
     "text": [
      "\n",
      "Attaching package: ‘dplyr’\n",
      "\n",
      "\n",
      "The following objects are masked from ‘package:stats’:\n",
      "\n",
      "    filter, lag\n",
      "\n",
      "\n",
      "The following objects are masked from ‘package:base’:\n",
      "\n",
      "    intersect, setdiff, setequal, union\n",
      "\n",
      "\n"
     ]
    }
   ],
   "source": [
    "library(dplyr)\n",
    "library(DBI)\n",
    "library(stringr)\n",
    "library(ggplot2)\n",
    "library(reticulate)"
   ]
  },
  {
   "cell_type": "code",
   "execution_count": 2,
   "metadata": {},
   "outputs": [],
   "source": [
    "### getting database connection, fetching tables ###\n",
    "\n",
    "getDBConnection <- function() {\n",
    "    # returns a connection object to fetch db tables \n",
    "\n",
    "    conn <- DBI::dbConnect(\n",
    "                RPostgres::Postgres(), \n",
    "                dbname = \"fred\", \n",
    "                host = Sys.getenv(\"PGHOST\"), \n",
    "                port = Sys.getenv(\"PGPORT\"), \n",
    "                user = Sys.getenv(\"PGUSER\"), \n",
    "                password = Sys.getenv(\"PGPW\"))\n",
    "    return (conn)\n",
    "}\n",
    "\n",
    "fetchTable <- function(table_name) {\n",
    "    # uses connection object to fetch and return tables stored in db \n",
    "\n",
    "    if (str_detect(table_name, \" \")) {\n",
    "        stop(\"Table name does not include whitespace\")\n",
    "        return (1) # exit code 1 on exception \n",
    "    }\n",
    "    conn <- getDBConnection()\n",
    "    query <- conn %>% DBI::dbSendQuery(\n",
    "            paste(\"select * from \", table_name))\n",
    "    data <- query %>% DBI::dbFetch() %>% as_tibble()\n",
    "    query %>% DBI::dbClearResult()\n",
    "    conn %>% DBI::dbDisconnect()\n",
    "    return (data)\n",
    "}\n"
   ]
  },
  {
   "cell_type": "code",
   "execution_count": 3,
   "metadata": {},
   "outputs": [],
   "source": [
    "gdp <- \"real_gross_domestic_product\" %>% fetchTable()\n",
    "hpi <- \"s_p_case_shiller_u_s__national_home_price_index\" %>% fetchTable()\n",
    "reit <- \"wilshire_us_real_estate_investment_trust_total_market_index__wi\" %>% fetchTable()\n",
    "sahm <- \"real_time_sahm_rule_recession_indicator\" %>% fetchTable()\n",
    "tpd_pgdp <- \"federal_debt__total_public_debt_as_percent_of_gross_domestic_product_pr\" %>% fetchTable()\n",
    "tfr <- \"total_reserve_balances_maintained_With_federal_reserve_banks__d\" %>%fetchTable()\n"
   ]
  },
  {
   "cell_type": "code",
   "execution_count": 4,
   "metadata": {},
   "outputs": [
    {
     "data": {
      "text/html": [
       "<style>\n",
       ".list-inline {list-style: none; margin:0; padding: 0}\n",
       ".list-inline>li {display: inline-block}\n",
       ".list-inline>li:not(:last-child)::after {content: \"\\00b7\"; padding: 0 .5ex}\n",
       "</style>\n",
       "<ol class=list-inline><li>'fred'</li><li>'Fred'</li><li>'version'</li></ol>\n"
      ],
      "text/latex": [
       "\\begin{enumerate*}\n",
       "\\item 'fred'\n",
       "\\item 'Fred'\n",
       "\\item 'version'\n",
       "\\end{enumerate*}\n"
      ],
      "text/markdown": [
       "1. 'fred'\n",
       "2. 'Fred'\n",
       "3. 'version'\n",
       "\n",
       "\n"
      ],
      "text/plain": [
       "[1] \"fred\"    \"Fred\"    \"version\""
      ]
     },
     "metadata": {},
     "output_type": "display_data"
    },
    {
     "data": {
      "text/html": [
       "<style>\n",
       ".list-inline {list-style: none; margin:0; padding: 0}\n",
       ".list-inline>li {display: inline-block}\n",
       ".list-inline>li:not(:last-child)::after {content: \"\\00b7\"; padding: 0 .5ex}\n",
       "</style>\n",
       "<ol class=list-inline><li>'api_key'</li><li>'earliest_realtime_start'</li><li>'get_series'</li><li>'get_series_all_releases'</li><li>'get_series_as_of_date'</li><li>'get_series_first_release'</li><li>'get_series_info'</li><li>'get_series_latest_release'</li><li>'get_series_vintage_dates'</li><li>'latest_realtime_end'</li><li>'max_results_per_request'</li><li>'nan_char'</li><li>'root_url'</li><li>'search'</li><li>'search_by_category'</li><li>'search_by_release'</li></ol>\n"
      ],
      "text/latex": [
       "\\begin{enumerate*}\n",
       "\\item 'api\\_key'\n",
       "\\item 'earliest\\_realtime\\_start'\n",
       "\\item 'get\\_series'\n",
       "\\item 'get\\_series\\_all\\_releases'\n",
       "\\item 'get\\_series\\_as\\_of\\_date'\n",
       "\\item 'get\\_series\\_first\\_release'\n",
       "\\item 'get\\_series\\_info'\n",
       "\\item 'get\\_series\\_latest\\_release'\n",
       "\\item 'get\\_series\\_vintage\\_dates'\n",
       "\\item 'latest\\_realtime\\_end'\n",
       "\\item 'max\\_results\\_per\\_request'\n",
       "\\item 'nan\\_char'\n",
       "\\item 'root\\_url'\n",
       "\\item 'search'\n",
       "\\item 'search\\_by\\_category'\n",
       "\\item 'search\\_by\\_release'\n",
       "\\end{enumerate*}\n"
      ],
      "text/markdown": [
       "1. 'api_key'\n",
       "2. 'earliest_realtime_start'\n",
       "3. 'get_series'\n",
       "4. 'get_series_all_releases'\n",
       "5. 'get_series_as_of_date'\n",
       "6. 'get_series_first_release'\n",
       "7. 'get_series_info'\n",
       "8. 'get_series_latest_release'\n",
       "9. 'get_series_vintage_dates'\n",
       "10. 'latest_realtime_end'\n",
       "11. 'max_results_per_request'\n",
       "12. 'nan_char'\n",
       "13. 'root_url'\n",
       "14. 'search'\n",
       "15. 'search_by_category'\n",
       "16. 'search_by_release'\n",
       "\n",
       "\n"
      ],
      "text/plain": [
       " [1] \"api_key\"                   \"earliest_realtime_start\"  \n",
       " [3] \"get_series\"                \"get_series_all_releases\"  \n",
       " [5] \"get_series_as_of_date\"     \"get_series_first_release\" \n",
       " [7] \"get_series_info\"           \"get_series_latest_release\"\n",
       " [9] \"get_series_vintage_dates\"  \"latest_realtime_end\"      \n",
       "[11] \"max_results_per_request\"   \"nan_char\"                 \n",
       "[13] \"root_url\"                  \"search\"                   \n",
       "[15] \"search_by_category\"        \"search_by_release\"        "
      ]
     },
     "metadata": {},
     "output_type": "display_data"
    }
   ],
   "source": [
    "fredapi <- import('fredapi')\n",
    "fredapi %>% names()\n",
    "Fred <- fredapi$Fred(api_key = Sys.getenv(\"FRED_API_KEY\"))\n",
    "Fred %>% names()\n",
    "\n",
    "getFredMetadata <- function(df) {\n",
    "    # input: a tibble or dataframe object\n",
    "\n",
    "    # returns: \n",
    "    # metadata from Fred API via Python fredapi interface stored in \n",
    "    # a tibble and with each rowname stored in the surrogate rowname \n",
    "    # column called 'name'\n",
    "    # tibbles don't store rownames so rownames are stored in a column \n",
    "    # this function relies on reticulate R interface to Python\n",
    "\n",
    "    # the official name of the series is stored at the third index of \n",
    "    # the vector returned by colnames(df) for all tables \n",
    "    # first two columns are timepoint_id and date_of_obs\n",
    "    series_info <- Fred$get_series_info(colnames(df)[3]) \n",
    "    series_info_names <- series_info %>% \n",
    "                            lapply(names) %>% \n",
    "                            attributes() %>% \n",
    "                            as_tibble()\n",
    "    metadata_tbl <- series_info %>% \n",
    "                        as_tibble() %>% \n",
    "                        bind_cols(series_info_names) %>% \n",
    "                        select(names, value)\n",
    "    return (metadata_tbl)\n",
    "}\n",
    "\n",
    "gdp_metadata <- gdp %>% getFredMetadata()\n",
    "hpi_metadata <- hpi %>% getFredMetadata()\n",
    "reit_metadata <- reit %>% getFredMetadata()\n",
    "sahm_metadata <- sahm %>% getFredMetadata()\n",
    "tpd_pgdp_metadata <- tpd_pgdp %>% getFredMetadata()\n",
    "tfr_metadata <- tfr %>% getFredMetadata()\n"
   ]
  },
  {
   "cell_type": "code",
   "execution_count": 5,
   "metadata": {},
   "outputs": [],
   "source": [
    "### data description / notes from fredapi "
   ]
  },
  {
   "cell_type": "code",
   "execution_count": 6,
   "metadata": {},
   "outputs": [],
   "source": [
    "\n",
    "getMetadataVals <- function(df_metadata, data_point) {\n",
    "    # input: \n",
    "    # df_metadata: a Fred API metadata tibble \n",
    "    # data_point: a string denoting the row name whose value to return \n",
    "    # returns: a metadata element such as title or frequency \n",
    "    # from fredapi metadata tibble \n",
    "\n",
    "    metadata_element <- df_metadata %>% \n",
    "                            filter(names == data_point) %>% \n",
    "                            pull(value)\n",
    "                            #select(value) %>% as.character()\n",
    "    return (metadata_element)\n",
    "}\n",
    "\n"
   ]
  },
  {
   "cell_type": "code",
   "execution_count": 7,
   "metadata": {},
   "outputs": [
    {
     "data": {
      "text/html": [
       "<span style=white-space:pre-wrap>'BEA Account Code: A191RL  Gross domestic product (GDP) is the value of the goods and services produced by the nation\\'s economy less the value of the goods and services used up in production. GDP is also equal to the sum of personal consumption expenditures, gross private domestic investment, net exports of goods and services, and government consumption expenditures and gross investment. Real values are inflation-adjusted estimates—that is, estimates that exclude the effects of price changes.  For more information about this series, please visit the Bureau of Economic Analysis (http://www.bea.gov/national/).'</span>"
      ],
      "text/latex": [
       "'BEA Account Code: A191RL  Gross domestic product (GDP) is the value of the goods and services produced by the nation\\textbackslash{}'s economy less the value of the goods and services used up in production. GDP is also equal to the sum of personal consumption expenditures, gross private domestic investment, net exports of goods and services, and government consumption expenditures and gross investment. Real values are inflation-adjusted estimates—that is, estimates that exclude the effects of price changes.  For more information about this series, please visit the Bureau of Economic Analysis (http://www.bea.gov/national/).'"
      ],
      "text/markdown": [
       "<span style=white-space:pre-wrap>'BEA Account Code: A191RL  Gross domestic product (GDP) is the value of the goods and services produced by the nation\\'s economy less the value of the goods and services used up in production. GDP is also equal to the sum of personal consumption expenditures, gross private domestic investment, net exports of goods and services, and government consumption expenditures and gross investment. Real values are inflation-adjusted estimates—that is, estimates that exclude the effects of price changes.  For more information about this series, please visit the Bureau of Economic Analysis (http://www.bea.gov/national/).'</span>"
      ],
      "text/plain": [
       "[1] \"BEA Account Code: A191RL  Gross domestic product (GDP) is the value of the goods and services produced by the nation's economy less the value of the goods and services used up in production. GDP is also equal to the sum of personal consumption expenditures, gross private domestic investment, net exports of goods and services, and government consumption expenditures and gross investment. Real values are inflation-adjusted estimates—that is, estimates that exclude the effects of price changes.  For more information about this series, please visit the Bureau of Economic Analysis (http://www.bea.gov/national/).\""
      ]
     },
     "metadata": {},
     "output_type": "display_data"
    }
   ],
   "source": [
    "notes_gdp <- gdp_metadata %>% getMetadataVals('notes')\n",
    "notes_gdp"
   ]
  },
  {
   "cell_type": "code",
   "execution_count": 8,
   "metadata": {},
   "outputs": [
    {
     "data": {
      "text/html": [
       "'For more information regarding the index, please visit Standard &amp; Poor\\'s (https://www.spglobal.com/spdji/en/documents/methodologies/methodology-sp-corelogic-cs-home-price-indices.pdf). There is more information about home price sales pairs in the Methodology section. Copyright, 2016, Standard &amp; Poor\\'s Financial Services LLC. Reprinted with permission.'"
      ],
      "text/latex": [
       "'For more information regarding the index, please visit Standard \\& Poor\\textbackslash{}'s (https://www.spglobal.com/spdji/en/documents/methodologies/methodology-sp-corelogic-cs-home-price-indices.pdf). There is more information about home price sales pairs in the Methodology section. Copyright, 2016, Standard \\& Poor\\textbackslash{}'s Financial Services LLC. Reprinted with permission.'"
      ],
      "text/markdown": [
       "'For more information regarding the index, please visit Standard &amp; Poor\\'s (https://www.spglobal.com/spdji/en/documents/methodologies/methodology-sp-corelogic-cs-home-price-indices.pdf). There is more information about home price sales pairs in the Methodology section. Copyright, 2016, Standard &amp; Poor\\'s Financial Services LLC. Reprinted with permission.'"
      ],
      "text/plain": [
       "[1] \"For more information regarding the index, please visit Standard & Poor's (https://www.spglobal.com/spdji/en/documents/methodologies/methodology-sp-corelogic-cs-home-price-indices.pdf). There is more information about home price sales pairs in the Methodology section. Copyright, 2016, Standard & Poor's Financial Services LLC. Reprinted with permission.\""
      ]
     },
     "metadata": {},
     "output_type": "display_data"
    }
   ],
   "source": [
    "notes_hpi <- hpi_metadata %>% getMetadataVals('notes')  \n",
    "notes_hpi"
   ]
  },
  {
   "cell_type": "code",
   "execution_count": 9,
   "metadata": {},
   "outputs": [
    {
     "data": {
      "text/html": [
       "<span style=white-space:pre-wrap>'The observations for the Wilshire US Real Estate Investment Trust Total Market Index (Wilshire US REIT) represent the daily index value at market close. The market typically closes at 4 PM ET, except for holidays when it sometimes closes early.  The total market indexes are total market returns, which do include reinvested dividends. Copyright, 2016, Wilshire Associates Incorporated. Reprinted with permission. For more information about the various indexes, visit Wilshire Associates (http://www.wilshire.com/Indexes).'</span>"
      ],
      "text/latex": [
       "'The observations for the Wilshire US Real Estate Investment Trust Total Market Index (Wilshire US REIT) represent the daily index value at market close. The market typically closes at 4 PM ET, except for holidays when it sometimes closes early.  The total market indexes are total market returns, which do include reinvested dividends. Copyright, 2016, Wilshire Associates Incorporated. Reprinted with permission. For more information about the various indexes, visit Wilshire Associates (http://www.wilshire.com/Indexes).'"
      ],
      "text/markdown": [
       "<span style=white-space:pre-wrap>'The observations for the Wilshire US Real Estate Investment Trust Total Market Index (Wilshire US REIT) represent the daily index value at market close. The market typically closes at 4 PM ET, except for holidays when it sometimes closes early.  The total market indexes are total market returns, which do include reinvested dividends. Copyright, 2016, Wilshire Associates Incorporated. Reprinted with permission. For more information about the various indexes, visit Wilshire Associates (http://www.wilshire.com/Indexes).'</span>"
      ],
      "text/plain": [
       "[1] \"The observations for the Wilshire US Real Estate Investment Trust Total Market Index (Wilshire US REIT) represent the daily index value at market close. The market typically closes at 4 PM ET, except for holidays when it sometimes closes early.  The total market indexes are total market returns, which do include reinvested dividends. Copyright, 2016, Wilshire Associates Incorporated. Reprinted with permission. For more information about the various indexes, visit Wilshire Associates (http://www.wilshire.com/Indexes).\""
      ]
     },
     "metadata": {},
     "output_type": "display_data"
    }
   ],
   "source": [
    "notes_reit <- reit_metadata %>% getMetadataVals('notes') \n",
    "notes_reit"
   ]
  },
  {
   "cell_type": "code",
   "execution_count": 10,
   "metadata": {},
   "outputs": [
    {
     "data": {
      "text/html": [
       "<span style=white-space:pre-wrap>'Sahm Recession Indicator signals the start of a recession when the three-month moving average of the national unemployment rate (U3) (https://fred.stlouisfed.org/series/UNRATE) rises by 0.50 percentage points or more relative to its low during the previous 12 months.  This indicator is based on \"real-time\" data, that is, the unemployment rate (and the recent history of unemployment rates) that were available in a given month. The BLS revises the unemployment rate each year at the beginning of January, when the December unemployment rate for the prior year is published. Revisions to the seasonal factors can affect estimates in recent years. Otherwise the unemployment rate does not revise.'</span>"
      ],
      "text/latex": [
       "'Sahm Recession Indicator signals the start of a recession when the three-month moving average of the national unemployment rate (U3) (https://fred.stlouisfed.org/series/UNRATE) rises by 0.50 percentage points or more relative to its low during the previous 12 months.  This indicator is based on \"real-time\" data, that is, the unemployment rate (and the recent history of unemployment rates) that were available in a given month. The BLS revises the unemployment rate each year at the beginning of January, when the December unemployment rate for the prior year is published. Revisions to the seasonal factors can affect estimates in recent years. Otherwise the unemployment rate does not revise.'"
      ],
      "text/markdown": [
       "<span style=white-space:pre-wrap>'Sahm Recession Indicator signals the start of a recession when the three-month moving average of the national unemployment rate (U3) (https://fred.stlouisfed.org/series/UNRATE) rises by 0.50 percentage points or more relative to its low during the previous 12 months.  This indicator is based on \"real-time\" data, that is, the unemployment rate (and the recent history of unemployment rates) that were available in a given month. The BLS revises the unemployment rate each year at the beginning of January, when the December unemployment rate for the prior year is published. Revisions to the seasonal factors can affect estimates in recent years. Otherwise the unemployment rate does not revise.'</span>"
      ],
      "text/plain": [
       "[1] \"Sahm Recession Indicator signals the start of a recession when the three-month moving average of the national unemployment rate (U3) (https://fred.stlouisfed.org/series/UNRATE) rises by 0.50 percentage points or more relative to its low during the previous 12 months.  This indicator is based on \\\"real-time\\\" data, that is, the unemployment rate (and the recent history of unemployment rates) that were available in a given month. The BLS revises the unemployment rate each year at the beginning of January, when the December unemployment rate for the prior year is published. Revisions to the seasonal factors can affect estimates in recent years. Otherwise the unemployment rate does not revise.\""
      ]
     },
     "metadata": {},
     "output_type": "display_data"
    }
   ],
   "source": [
    "notes_sahm <- sahm_metadata %>% getMetadataVals('notes')\n",
    "notes_sahm"
   ]
  },
  {
   "cell_type": "code",
   "execution_count": 11,
   "metadata": {},
   "outputs": [
    {
     "data": {
      "text/html": [
       "'Federal Debt: Total Public Debt as Percent of Gross Domestic Product (GFDEGDQ188S) was first constructed by the Federal Reserve Bank of St. Louis in October 2012. It is calculated using Federal Government Debt: Total Public Debt (GFDEBTN) and Gross Domestic Product, 1 Decimal (GDP): GFDEGDQ188S = ((GFDEBTN/1000)/GDP)*100 GFDEBTN/1000 transforms GFDEBTN from millions of dollars to billions of dollars.'"
      ],
      "text/latex": [
       "'Federal Debt: Total Public Debt as Percent of Gross Domestic Product (GFDEGDQ188S) was first constructed by the Federal Reserve Bank of St. Louis in October 2012. It is calculated using Federal Government Debt: Total Public Debt (GFDEBTN) and Gross Domestic Product, 1 Decimal (GDP): GFDEGDQ188S = ((GFDEBTN/1000)/GDP)*100 GFDEBTN/1000 transforms GFDEBTN from millions of dollars to billions of dollars.'"
      ],
      "text/markdown": [
       "'Federal Debt: Total Public Debt as Percent of Gross Domestic Product (GFDEGDQ188S) was first constructed by the Federal Reserve Bank of St. Louis in October 2012. It is calculated using Federal Government Debt: Total Public Debt (GFDEBTN) and Gross Domestic Product, 1 Decimal (GDP): GFDEGDQ188S = ((GFDEBTN/1000)/GDP)*100 GFDEBTN/1000 transforms GFDEBTN from millions of dollars to billions of dollars.'"
      ],
      "text/plain": [
       "[1] \"Federal Debt: Total Public Debt as Percent of Gross Domestic Product (GFDEGDQ188S) was first constructed by the Federal Reserve Bank of St. Louis in October 2012. It is calculated using Federal Government Debt: Total Public Debt (GFDEBTN) and Gross Domestic Product, 1 Decimal (GDP): GFDEGDQ188S = ((GFDEBTN/1000)/GDP)*100 GFDEBTN/1000 transforms GFDEBTN from millions of dollars to billions of dollars.\""
      ]
     },
     "metadata": {},
     "output_type": "display_data"
    }
   ],
   "source": [
    "notes_tpd <- tpd_pgdp_metadata %>% getMetadataVals('notes')\n",
    "notes_tpd "
   ]
  },
  {
   "cell_type": "code",
   "execution_count": 12,
   "metadata": {},
   "outputs": [
    {
     "data": {
      "text/html": [
       "<span style=white-space:pre-wrap>'The Board of Governors discontinued the H.3 statistical release on September 17, 2020. For more information, please see the announcement (https://www.federalreserve.gov/feeds/h3.html) posted on August 20, 2020.  Total reserve balances maintained is the amount of balances institutions hold in accounts at Federal Reserve Banks that are available to satisfy reserve requirements. Historically, this series excluded balances held in a reserve account for contractual clearing purposes (contractual clearing balances program has been discontinued on July 12, 2012).  Effective February 2, 1984, reserve computation and maintenance periods have been changed from weekly to bi-weekly. Series with data prior to February 2, 1984 have different values reported from one week to the next. After February 2, 1984, the value repeats for 2 consecutive weeks.'</span>"
      ],
      "text/latex": [
       "'The Board of Governors discontinued the H.3 statistical release on September 17, 2020. For more information, please see the announcement (https://www.federalreserve.gov/feeds/h3.html) posted on August 20, 2020.  Total reserve balances maintained is the amount of balances institutions hold in accounts at Federal Reserve Banks that are available to satisfy reserve requirements. Historically, this series excluded balances held in a reserve account for contractual clearing purposes (contractual clearing balances program has been discontinued on July 12, 2012).  Effective February 2, 1984, reserve computation and maintenance periods have been changed from weekly to bi-weekly. Series with data prior to February 2, 1984 have different values reported from one week to the next. After February 2, 1984, the value repeats for 2 consecutive weeks.'"
      ],
      "text/markdown": [
       "<span style=white-space:pre-wrap>'The Board of Governors discontinued the H.3 statistical release on September 17, 2020. For more information, please see the announcement (https://www.federalreserve.gov/feeds/h3.html) posted on August 20, 2020.  Total reserve balances maintained is the amount of balances institutions hold in accounts at Federal Reserve Banks that are available to satisfy reserve requirements. Historically, this series excluded balances held in a reserve account for contractual clearing purposes (contractual clearing balances program has been discontinued on July 12, 2012).  Effective February 2, 1984, reserve computation and maintenance periods have been changed from weekly to bi-weekly. Series with data prior to February 2, 1984 have different values reported from one week to the next. After February 2, 1984, the value repeats for 2 consecutive weeks.'</span>"
      ],
      "text/plain": [
       "[1] \"The Board of Governors discontinued the H.3 statistical release on September 17, 2020. For more information, please see the announcement (https://www.federalreserve.gov/feeds/h3.html) posted on August 20, 2020.  Total reserve balances maintained is the amount of balances institutions hold in accounts at Federal Reserve Banks that are available to satisfy reserve requirements. Historically, this series excluded balances held in a reserve account for contractual clearing purposes (contractual clearing balances program has been discontinued on July 12, 2012).  Effective February 2, 1984, reserve computation and maintenance periods have been changed from weekly to bi-weekly. Series with data prior to February 2, 1984 have different values reported from one week to the next. After February 2, 1984, the value repeats for 2 consecutive weeks.\""
      ]
     },
     "metadata": {},
     "output_type": "display_data"
    }
   ],
   "source": [
    "notes_tfr <- tfr_metadata %>% getMetadataVals('notes')\n",
    "notes_tfr"
   ]
  },
  {
   "cell_type": "code",
   "execution_count": 13,
   "metadata": {},
   "outputs": [],
   "source": [
    "### cleaning and interpolating between known-values for tfr:: fed reserves held "
   ]
  },
  {
   "cell_type": "code",
   "execution_count": 14,
   "metadata": {},
   "outputs": [],
   "source": [
    "\n",
    "# drops NA and extra id column\n",
    "# changes only inconvenient column names\n",
    "gdp <- gdp %>% \n",
    "        rename(pct_ch_gdp = a191rl1q225sbea) %>%\n",
    "        select(date_of_obs, pct_ch_gdp)\n",
    "\n",
    "hpi <- hpi %>% \n",
    "            rename(hp_index = csushpisa) %>%\n",
    "            filter(!is.na(hp_index)) %>%\n",
    "            select(date_of_obs, hp_index)\n",
    "\n",
    "reit <- reit %>% \n",
    "            filter(!is.na(willreitind)) %>% \n",
    "            select(date_of_obs, willreitind)\n",
    "\n",
    "sahm <- sahm %>% select(date_of_obs, sahmrealtime)\n",
    "\n",
    "\n",
    "tpd_pgdp <- tpd_pgdp %>% \n",
    "                rename(tpd_pctgdp = gfdegdq188s) %>%\n",
    "                select(date_of_obs, tpd_pctgdp)\n",
    "\n",
    "tfr <- tfr %>% \n",
    "            rename(tot_res = resbalnsw) %>%\n",
    "            filter(!is.na(tot_res)) %>%\n",
    "            select(date_of_obs, tot_res)"
   ]
  },
  {
   "cell_type": "code",
   "execution_count": 15,
   "metadata": {},
   "outputs": [],
   "source": [
    "\n",
    "getDifferencedSeries <- function(df, col_string, difference = 1) {\n",
    "    # returns series' change from preceding period by default \n",
    "\n",
    "    # assigns the number of differences to calculate\n",
    "    diffs_left_to_calculate <- difference\n",
    "    # not feasible to difference a vector while it's embedded \n",
    "    # in a tibble, so it's passed to matrix constructor, \n",
    "    # differenced, then become a vector \n",
    "    differenced <- df %>% select(all_of(col_string)) %>% \n",
    "                as.matrix() %>% diff() %>% as.vector()\n",
    "    diffs_left_to_calculate <- diffs_left_to_calculate - 1\n",
    "\n",
    "    # stopping condition is true when there are no more \n",
    "    # differences to calculate \n",
    "    while (diffs_left_to_calculate > 0) {\n",
    "        differenced <- differenced %>% diff()\n",
    "        diffs_left_to_calculate <- diffs_left_to_calculate - 1\n",
    "    }\n",
    "    return (differenced)\n",
    "}\n"
   ]
  },
  {
   "cell_type": "code",
   "execution_count": 16,
   "metadata": {},
   "outputs": [],
   "source": [
    "\n",
    "setDifferencedTibble <- function(df, diff_vector, col_string, retain = TRUE) {\n",
    "    # retains undifferenced series and adds differenced version\n",
    "    # unless retain is set to false\n",
    "\n",
    "    # adds differenced series \n",
    "    new_df <- df[-1, ] %>% mutate(series_1d = diff_vector) \n",
    "\n",
    "    if (!retain) {     \n",
    "        # reorders columns\n",
    "        new_df <- new_df %>% select(date_of_obs, series_1d)\n",
    "        return (new_df)\n",
    "    }\n",
    "    new_df <- new_df %>% select(date_of_obs, series_1d, all_of(col_string))\n",
    "    return (new_df)\n",
    "}\n"
   ]
  },
  {
   "cell_type": "code",
   "execution_count": 17,
   "metadata": {},
   "outputs": [],
   "source": [
    "\n",
    "hpi <- hpi %>% \n",
    "            getDifferencedSeries(\"hp_index\") %>% \n",
    "            setDifferencedTibble(\n",
    "                df = hpi,\n",
    "                col_string = \"hp_index\", FALSE) %>%\n",
    "            rename(hp_index = series_1d)\n",
    "\n",
    "reit <- reit %>%\n",
    "            getDifferencedSeries(\"willreitind\") %>%\n",
    "            setDifferencedTibble(\n",
    "                df = reit,\n",
    "                col_string = \"willreitind\", FALSE) %>%\n",
    "            rename(willreitind = series_1d) \n",
    "\n",
    "tpd_pgdp <- tpd_pgdp %>%\n",
    "            getDifferencedSeries(\"tpd_pctgdp\") %>%\n",
    "            setDifferencedTibble(\n",
    "                df = tpd_pgdp,\n",
    "                col_string = \"tpd_pctgdp\", FALSE) %>%\n",
    "            rename(tpd_pctgdp = series_1d)\n",
    "\n",
    "tfr <- tfr %>%\n",
    "            getDifferencedSeries(\"tot_res\") %>%\n",
    "            setDifferencedTibble(\n",
    "                df = tfr,\n",
    "                col_string = \"tot_res\", FALSE) %>%\n",
    "            rename(tot_res = series_1d) "
   ]
  },
  {
   "cell_type": "code",
   "execution_count": 18,
   "metadata": {},
   "outputs": [
    {
     "data": {
      "text/html": [
       "<table>\n",
       "<caption>A tibble: 6 × 2</caption>\n",
       "<thead>\n",
       "\t<tr><th scope=col>date_of_obs</th><th scope=col>tot_res</th></tr>\n",
       "\t<tr><th scope=col>&lt;date&gt;</th><th scope=col>&lt;dbl&gt;</th></tr>\n",
       "</thead>\n",
       "<tbody>\n",
       "\t<tr><td>2020-08-05</td><td>127598</td></tr>\n",
       "\t<tr><td>2020-08-12</td><td>     0</td></tr>\n",
       "\t<tr><td>2020-08-19</td><td> 70616</td></tr>\n",
       "\t<tr><td>2020-08-26</td><td>     0</td></tr>\n",
       "\t<tr><td>2020-09-02</td><td> 32950</td></tr>\n",
       "\t<tr><td>2020-09-09</td><td>     0</td></tr>\n",
       "</tbody>\n",
       "</table>\n"
      ],
      "text/latex": [
       "A tibble: 6 × 2\n",
       "\\begin{tabular}{ll}\n",
       " date\\_of\\_obs & tot\\_res\\\\\n",
       " <date> & <dbl>\\\\\n",
       "\\hline\n",
       "\t 2020-08-05 & 127598\\\\\n",
       "\t 2020-08-12 &      0\\\\\n",
       "\t 2020-08-19 &  70616\\\\\n",
       "\t 2020-08-26 &      0\\\\\n",
       "\t 2020-09-02 &  32950\\\\\n",
       "\t 2020-09-09 &      0\\\\\n",
       "\\end{tabular}\n"
      ],
      "text/markdown": [
       "\n",
       "A tibble: 6 × 2\n",
       "\n",
       "| date_of_obs &lt;date&gt; | tot_res &lt;dbl&gt; |\n",
       "|---|---|\n",
       "| 2020-08-05 | 127598 |\n",
       "| 2020-08-12 |      0 |\n",
       "| 2020-08-19 |  70616 |\n",
       "| 2020-08-26 |      0 |\n",
       "| 2020-09-02 |  32950 |\n",
       "| 2020-09-09 |      0 |\n",
       "\n"
      ],
      "text/plain": [
       "  date_of_obs tot_res\n",
       "1 2020-08-05  127598 \n",
       "2 2020-08-12       0 \n",
       "3 2020-08-19   70616 \n",
       "4 2020-08-26       0 \n",
       "5 2020-09-02   32950 \n",
       "6 2020-09-09       0 "
      ]
     },
     "metadata": {},
     "output_type": "display_data"
    }
   ],
   "source": [
    "tfr %>% tail()"
   ]
  },
  {
   "cell_type": "code",
   "execution_count": 19,
   "metadata": {},
   "outputs": [
    {
     "data": {
      "text/html": [
       "324.5"
      ],
      "text/latex": [
       "324.5"
      ],
      "text/markdown": [
       "324.5"
      ],
      "text/plain": [
       "[1] 324.5"
      ]
     },
     "metadata": {},
     "output_type": "display_data"
    },
    {
     "data": {
      "text/html": [
       "<table>\n",
       "<caption>A matrix: 955 × 3 of type lgl</caption>\n",
       "<thead>\n",
       "\t<tr><th scope=col>date_of_obs</th><th scope=col>tot_res</th><th scope=col>missing</th></tr>\n",
       "</thead>\n",
       "<tbody>\n",
       "\t<tr><td>TRUE</td><td>TRUE</td><td>TRUE</td></tr>\n",
       "\t<tr><td>TRUE</td><td>TRUE</td><td>TRUE</td></tr>\n",
       "\t<tr><td>TRUE</td><td>TRUE</td><td>TRUE</td></tr>\n",
       "\t<tr><td>TRUE</td><td>TRUE</td><td>TRUE</td></tr>\n",
       "\t<tr><td>TRUE</td><td>TRUE</td><td>TRUE</td></tr>\n",
       "\t<tr><td>TRUE</td><td>TRUE</td><td>TRUE</td></tr>\n",
       "\t<tr><td>TRUE</td><td>TRUE</td><td>TRUE</td></tr>\n",
       "\t<tr><td>TRUE</td><td>TRUE</td><td>TRUE</td></tr>\n",
       "\t<tr><td>TRUE</td><td>TRUE</td><td>TRUE</td></tr>\n",
       "\t<tr><td>TRUE</td><td>TRUE</td><td>TRUE</td></tr>\n",
       "\t<tr><td>TRUE</td><td>TRUE</td><td>TRUE</td></tr>\n",
       "\t<tr><td>TRUE</td><td>TRUE</td><td>TRUE</td></tr>\n",
       "\t<tr><td>TRUE</td><td>TRUE</td><td>TRUE</td></tr>\n",
       "\t<tr><td>TRUE</td><td>TRUE</td><td>TRUE</td></tr>\n",
       "\t<tr><td>TRUE</td><td>TRUE</td><td>TRUE</td></tr>\n",
       "\t<tr><td>TRUE</td><td>TRUE</td><td>TRUE</td></tr>\n",
       "\t<tr><td>TRUE</td><td>TRUE</td><td>TRUE</td></tr>\n",
       "\t<tr><td>TRUE</td><td>TRUE</td><td>TRUE</td></tr>\n",
       "\t<tr><td>TRUE</td><td>TRUE</td><td>TRUE</td></tr>\n",
       "\t<tr><td>TRUE</td><td>TRUE</td><td>TRUE</td></tr>\n",
       "\t<tr><td>TRUE</td><td>TRUE</td><td>TRUE</td></tr>\n",
       "\t<tr><td>TRUE</td><td>TRUE</td><td>TRUE</td></tr>\n",
       "\t<tr><td>TRUE</td><td>TRUE</td><td>TRUE</td></tr>\n",
       "\t<tr><td>TRUE</td><td>TRUE</td><td>TRUE</td></tr>\n",
       "\t<tr><td>TRUE</td><td>TRUE</td><td>TRUE</td></tr>\n",
       "\t<tr><td>TRUE</td><td>TRUE</td><td>TRUE</td></tr>\n",
       "\t<tr><td>TRUE</td><td>TRUE</td><td>TRUE</td></tr>\n",
       "\t<tr><td>TRUE</td><td>TRUE</td><td>TRUE</td></tr>\n",
       "\t<tr><td>TRUE</td><td>TRUE</td><td>TRUE</td></tr>\n",
       "\t<tr><td>TRUE</td><td>TRUE</td><td>TRUE</td></tr>\n",
       "\t<tr><td>⋮</td><td>⋮</td><td>⋮</td></tr>\n",
       "\t<tr><td>TRUE</td><td>TRUE</td><td>TRUE</td></tr>\n",
       "\t<tr><td>TRUE</td><td>TRUE</td><td>TRUE</td></tr>\n",
       "\t<tr><td>TRUE</td><td>TRUE</td><td>TRUE</td></tr>\n",
       "\t<tr><td>TRUE</td><td>TRUE</td><td>TRUE</td></tr>\n",
       "\t<tr><td>TRUE</td><td>TRUE</td><td>TRUE</td></tr>\n",
       "\t<tr><td>TRUE</td><td>TRUE</td><td>TRUE</td></tr>\n",
       "\t<tr><td>TRUE</td><td>TRUE</td><td>TRUE</td></tr>\n",
       "\t<tr><td>TRUE</td><td>TRUE</td><td>TRUE</td></tr>\n",
       "\t<tr><td>TRUE</td><td>TRUE</td><td>TRUE</td></tr>\n",
       "\t<tr><td>TRUE</td><td>TRUE</td><td>TRUE</td></tr>\n",
       "\t<tr><td>TRUE</td><td>TRUE</td><td>TRUE</td></tr>\n",
       "\t<tr><td>TRUE</td><td>TRUE</td><td>TRUE</td></tr>\n",
       "\t<tr><td>TRUE</td><td>TRUE</td><td>TRUE</td></tr>\n",
       "\t<tr><td>TRUE</td><td>TRUE</td><td>TRUE</td></tr>\n",
       "\t<tr><td>TRUE</td><td>TRUE</td><td>TRUE</td></tr>\n",
       "\t<tr><td>TRUE</td><td>TRUE</td><td>TRUE</td></tr>\n",
       "\t<tr><td>TRUE</td><td>TRUE</td><td>TRUE</td></tr>\n",
       "\t<tr><td>TRUE</td><td>TRUE</td><td>TRUE</td></tr>\n",
       "\t<tr><td>TRUE</td><td>TRUE</td><td>TRUE</td></tr>\n",
       "\t<tr><td>TRUE</td><td>TRUE</td><td>TRUE</td></tr>\n",
       "\t<tr><td>TRUE</td><td>TRUE</td><td>TRUE</td></tr>\n",
       "\t<tr><td>TRUE</td><td>TRUE</td><td>TRUE</td></tr>\n",
       "\t<tr><td>TRUE</td><td>TRUE</td><td>TRUE</td></tr>\n",
       "\t<tr><td>TRUE</td><td>TRUE</td><td>TRUE</td></tr>\n",
       "\t<tr><td>TRUE</td><td>TRUE</td><td>TRUE</td></tr>\n",
       "\t<tr><td>TRUE</td><td>TRUE</td><td>TRUE</td></tr>\n",
       "\t<tr><td>TRUE</td><td>TRUE</td><td>TRUE</td></tr>\n",
       "\t<tr><td>TRUE</td><td>TRUE</td><td>TRUE</td></tr>\n",
       "\t<tr><td>TRUE</td><td>TRUE</td><td>TRUE</td></tr>\n",
       "\t<tr><td>TRUE</td><td>TRUE</td><td>TRUE</td></tr>\n",
       "</tbody>\n",
       "</table>\n"
      ],
      "text/latex": [
       "A matrix: 955 × 3 of type lgl\n",
       "\\begin{tabular}{lll}\n",
       " date\\_of\\_obs & tot\\_res & missing\\\\\n",
       "\\hline\n",
       "\t TRUE & TRUE & TRUE\\\\\n",
       "\t TRUE & TRUE & TRUE\\\\\n",
       "\t TRUE & TRUE & TRUE\\\\\n",
       "\t TRUE & TRUE & TRUE\\\\\n",
       "\t TRUE & TRUE & TRUE\\\\\n",
       "\t TRUE & TRUE & TRUE\\\\\n",
       "\t TRUE & TRUE & TRUE\\\\\n",
       "\t TRUE & TRUE & TRUE\\\\\n",
       "\t TRUE & TRUE & TRUE\\\\\n",
       "\t TRUE & TRUE & TRUE\\\\\n",
       "\t TRUE & TRUE & TRUE\\\\\n",
       "\t TRUE & TRUE & TRUE\\\\\n",
       "\t TRUE & TRUE & TRUE\\\\\n",
       "\t TRUE & TRUE & TRUE\\\\\n",
       "\t TRUE & TRUE & TRUE\\\\\n",
       "\t TRUE & TRUE & TRUE\\\\\n",
       "\t TRUE & TRUE & TRUE\\\\\n",
       "\t TRUE & TRUE & TRUE\\\\\n",
       "\t TRUE & TRUE & TRUE\\\\\n",
       "\t TRUE & TRUE & TRUE\\\\\n",
       "\t TRUE & TRUE & TRUE\\\\\n",
       "\t TRUE & TRUE & TRUE\\\\\n",
       "\t TRUE & TRUE & TRUE\\\\\n",
       "\t TRUE & TRUE & TRUE\\\\\n",
       "\t TRUE & TRUE & TRUE\\\\\n",
       "\t TRUE & TRUE & TRUE\\\\\n",
       "\t TRUE & TRUE & TRUE\\\\\n",
       "\t TRUE & TRUE & TRUE\\\\\n",
       "\t TRUE & TRUE & TRUE\\\\\n",
       "\t TRUE & TRUE & TRUE\\\\\n",
       "\t ⋮ & ⋮ & ⋮\\\\\n",
       "\t TRUE & TRUE & TRUE\\\\\n",
       "\t TRUE & TRUE & TRUE\\\\\n",
       "\t TRUE & TRUE & TRUE\\\\\n",
       "\t TRUE & TRUE & TRUE\\\\\n",
       "\t TRUE & TRUE & TRUE\\\\\n",
       "\t TRUE & TRUE & TRUE\\\\\n",
       "\t TRUE & TRUE & TRUE\\\\\n",
       "\t TRUE & TRUE & TRUE\\\\\n",
       "\t TRUE & TRUE & TRUE\\\\\n",
       "\t TRUE & TRUE & TRUE\\\\\n",
       "\t TRUE & TRUE & TRUE\\\\\n",
       "\t TRUE & TRUE & TRUE\\\\\n",
       "\t TRUE & TRUE & TRUE\\\\\n",
       "\t TRUE & TRUE & TRUE\\\\\n",
       "\t TRUE & TRUE & TRUE\\\\\n",
       "\t TRUE & TRUE & TRUE\\\\\n",
       "\t TRUE & TRUE & TRUE\\\\\n",
       "\t TRUE & TRUE & TRUE\\\\\n",
       "\t TRUE & TRUE & TRUE\\\\\n",
       "\t TRUE & TRUE & TRUE\\\\\n",
       "\t TRUE & TRUE & TRUE\\\\\n",
       "\t TRUE & TRUE & TRUE\\\\\n",
       "\t TRUE & TRUE & TRUE\\\\\n",
       "\t TRUE & TRUE & TRUE\\\\\n",
       "\t TRUE & TRUE & TRUE\\\\\n",
       "\t TRUE & TRUE & TRUE\\\\\n",
       "\t TRUE & TRUE & TRUE\\\\\n",
       "\t TRUE & TRUE & TRUE\\\\\n",
       "\t TRUE & TRUE & TRUE\\\\\n",
       "\t TRUE & TRUE & TRUE\\\\\n",
       "\\end{tabular}\n"
      ],
      "text/markdown": [
       "\n",
       "A matrix: 955 × 3 of type lgl\n",
       "\n",
       "| date_of_obs | tot_res | missing |\n",
       "|---|---|---|\n",
       "| TRUE | TRUE | TRUE |\n",
       "| TRUE | TRUE | TRUE |\n",
       "| TRUE | TRUE | TRUE |\n",
       "| TRUE | TRUE | TRUE |\n",
       "| TRUE | TRUE | TRUE |\n",
       "| TRUE | TRUE | TRUE |\n",
       "| TRUE | TRUE | TRUE |\n",
       "| TRUE | TRUE | TRUE |\n",
       "| TRUE | TRUE | TRUE |\n",
       "| TRUE | TRUE | TRUE |\n",
       "| TRUE | TRUE | TRUE |\n",
       "| TRUE | TRUE | TRUE |\n",
       "| TRUE | TRUE | TRUE |\n",
       "| TRUE | TRUE | TRUE |\n",
       "| TRUE | TRUE | TRUE |\n",
       "| TRUE | TRUE | TRUE |\n",
       "| TRUE | TRUE | TRUE |\n",
       "| TRUE | TRUE | TRUE |\n",
       "| TRUE | TRUE | TRUE |\n",
       "| TRUE | TRUE | TRUE |\n",
       "| TRUE | TRUE | TRUE |\n",
       "| TRUE | TRUE | TRUE |\n",
       "| TRUE | TRUE | TRUE |\n",
       "| TRUE | TRUE | TRUE |\n",
       "| TRUE | TRUE | TRUE |\n",
       "| TRUE | TRUE | TRUE |\n",
       "| TRUE | TRUE | TRUE |\n",
       "| TRUE | TRUE | TRUE |\n",
       "| TRUE | TRUE | TRUE |\n",
       "| TRUE | TRUE | TRUE |\n",
       "| ⋮ | ⋮ | ⋮ |\n",
       "| TRUE | TRUE | TRUE |\n",
       "| TRUE | TRUE | TRUE |\n",
       "| TRUE | TRUE | TRUE |\n",
       "| TRUE | TRUE | TRUE |\n",
       "| TRUE | TRUE | TRUE |\n",
       "| TRUE | TRUE | TRUE |\n",
       "| TRUE | TRUE | TRUE |\n",
       "| TRUE | TRUE | TRUE |\n",
       "| TRUE | TRUE | TRUE |\n",
       "| TRUE | TRUE | TRUE |\n",
       "| TRUE | TRUE | TRUE |\n",
       "| TRUE | TRUE | TRUE |\n",
       "| TRUE | TRUE | TRUE |\n",
       "| TRUE | TRUE | TRUE |\n",
       "| TRUE | TRUE | TRUE |\n",
       "| TRUE | TRUE | TRUE |\n",
       "| TRUE | TRUE | TRUE |\n",
       "| TRUE | TRUE | TRUE |\n",
       "| TRUE | TRUE | TRUE |\n",
       "| TRUE | TRUE | TRUE |\n",
       "| TRUE | TRUE | TRUE |\n",
       "| TRUE | TRUE | TRUE |\n",
       "| TRUE | TRUE | TRUE |\n",
       "| TRUE | TRUE | TRUE |\n",
       "| TRUE | TRUE | TRUE |\n",
       "| TRUE | TRUE | TRUE |\n",
       "| TRUE | TRUE | TRUE |\n",
       "| TRUE | TRUE | TRUE |\n",
       "| TRUE | TRUE | TRUE |\n",
       "| TRUE | TRUE | TRUE |\n",
       "\n"
      ],
      "text/plain": [
       "      date_of_obs tot_res missing\n",
       " [1,] TRUE        TRUE    TRUE   \n",
       " [2,] TRUE        TRUE    TRUE   \n",
       " [3,] TRUE        TRUE    TRUE   \n",
       " [4,] TRUE        TRUE    TRUE   \n",
       " [5,] TRUE        TRUE    TRUE   \n",
       " [6,] TRUE        TRUE    TRUE   \n",
       " [7,] TRUE        TRUE    TRUE   \n",
       " [8,] TRUE        TRUE    TRUE   \n",
       " [9,] TRUE        TRUE    TRUE   \n",
       "[10,] TRUE        TRUE    TRUE   \n",
       "[11,] TRUE        TRUE    TRUE   \n",
       "[12,] TRUE        TRUE    TRUE   \n",
       "[13,] TRUE        TRUE    TRUE   \n",
       "[14,] TRUE        TRUE    TRUE   \n",
       "[15,] TRUE        TRUE    TRUE   \n",
       "[16,] TRUE        TRUE    TRUE   \n",
       "[17,] TRUE        TRUE    TRUE   \n",
       "[18,] TRUE        TRUE    TRUE   \n",
       "[19,] TRUE        TRUE    TRUE   \n",
       "[20,] TRUE        TRUE    TRUE   \n",
       "[21,] TRUE        TRUE    TRUE   \n",
       "[22,] TRUE        TRUE    TRUE   \n",
       "[23,] TRUE        TRUE    TRUE   \n",
       "[24,] TRUE        TRUE    TRUE   \n",
       "[25,] TRUE        TRUE    TRUE   \n",
       "[26,] TRUE        TRUE    TRUE   \n",
       "[27,] TRUE        TRUE    TRUE   \n",
       "[28,] TRUE        TRUE    TRUE   \n",
       "[29,] TRUE        TRUE    TRUE   \n",
       "[30,] TRUE        TRUE    TRUE   \n",
       "[31,] ⋮           ⋮       ⋮      \n",
       "[32,] TRUE        TRUE    TRUE   \n",
       "[33,] TRUE        TRUE    TRUE   \n",
       "[34,] TRUE        TRUE    TRUE   \n",
       "[35,] TRUE        TRUE    TRUE   \n",
       "[36,] TRUE        TRUE    TRUE   \n",
       "[37,] TRUE        TRUE    TRUE   \n",
       "[38,] TRUE        TRUE    TRUE   \n",
       "[39,] TRUE        TRUE    TRUE   \n",
       "[40,] TRUE        TRUE    TRUE   \n",
       "[41,] TRUE        TRUE    TRUE   \n",
       "[42,] TRUE        TRUE    TRUE   \n",
       "[43,] TRUE        TRUE    TRUE   \n",
       "[44,] TRUE        TRUE    TRUE   \n",
       "[45,] TRUE        TRUE    TRUE   \n",
       "[46,] TRUE        TRUE    TRUE   \n",
       "[47,] TRUE        TRUE    TRUE   \n",
       "[48,] TRUE        TRUE    TRUE   \n",
       "[49,] TRUE        TRUE    TRUE   \n",
       "[50,] TRUE        TRUE    TRUE   \n",
       "[51,] TRUE        TRUE    TRUE   \n",
       "[52,] TRUE        TRUE    TRUE   \n",
       "[53,] TRUE        TRUE    TRUE   \n",
       "[54,] TRUE        TRUE    TRUE   \n",
       "[55,] TRUE        TRUE    TRUE   \n",
       "[56,] TRUE        TRUE    TRUE   \n",
       "[57,] TRUE        TRUE    TRUE   \n",
       "[58,] TRUE        TRUE    TRUE   \n",
       "[59,] TRUE        TRUE    TRUE   \n",
       "[60,] TRUE        TRUE    TRUE   \n",
       "[61,] TRUE        TRUE    TRUE   "
      ]
     },
     "metadata": {},
     "output_type": "display_data"
    }
   ],
   "source": [
    "# interpolation for post-frequency change values in total federal reserve balances  \n",
    "\n",
    "# post_change is the vector of all tot_res values recorded after \n",
    "# the 1984-February-02 change in recording frequency \n",
    "post_change <- tfr %>% filter(date_of_obs >= '1984-02-02') %>% pull(tot_res)\n",
    "\n",
    "# filled_cells stores all cells / only cells that have non-duplicate \n",
    "# values. these cells are non-zero but not necessarily \n",
    "# more specifically they're all cells of post_change that are not \n",
    "# 0 by default \n",
    "filled_cells <- post_change[seq(1, length(post_change), by = 2)]\n",
    "\n",
    "interpolated_tot_res <- filled_cells[1:length(filled_cells)] %>% approx(n = 2 * length(filled_cells) - 1)\n",
    "# has x, y but x isn't relevant and will prevent mutate function from working \n",
    "interpolated_tot_res <- interpolated_tot_res$y\n",
    "\n",
    "interpolationQA <- function(value1, value2) {\n",
    "    # returns interpolated value between adjacent value1 and value2 \n",
    "    # quality assurance \n",
    "    # interpolation formula: Xi-1 + (.5 * (Xi - Xi-1)) \n",
    "    return( value2 + (.5 * (value1 - value2)))\n",
    "}\n",
    "\n",
    "interpolationQA(filled_cells[3], filled_cells[4])\n",
    "\n",
    "tfr_post_change <- tfr %>% \n",
    "    filter(date_of_obs >= '1984-02-02') %>% \n",
    "    mutate(missing = 0)\n",
    "tfr_post_change_missing <- tfr_post_change[seq(2, nrow(tfr_post_change), by = 2), ] %>% mutate(missing = 1)\n",
    "tfr_post_change_present <- tfr_post_change[seq(1, nrow(tfr_post_change), by = 2), ]\n",
    "\n",
    "# assurance that missing rows and present rows were separated \n",
    "setdiff(tfr_post_change_missing, tfr_post_change_present) == tfr_post_change_missing\n",
    "\n",
    "# if last value is repeated and not unique then trimming is needed i.e., if \n",
    "# last row of first-differenced tibble holds value of 0 \n",
    "\n",
    "\n",
    "if (tfr_post_change[nrow(tfr_post_change), \"tot_res\"] == 0) {\n",
    "tfr_post_change <- tfr_post_change[-nrow(tfr_post_change), ]\n",
    "}\n",
    "\n",
    "tfr_post_change <- tfr_post_change %>% \n",
    "                        mutate(tot_res = interpolated_tot_res) %>% \n",
    "                        select(date_of_obs, tot_res)\n",
    "\n",
    "# the setdiff function returns pre-1984-February-02 dates: dates for which no \n",
    "# interpolation is necessary and these rows are bound to tfr after \n",
    "# 1984-February-02 with missing values interpolated\n",
    "tfr <- setdiff(tfr, tfr_post_change) %>% bind_rows(tfr_post_change)\n"
   ]
  },
  {
   "cell_type": "code",
   "execution_count": 20,
   "metadata": {},
   "outputs": [
    {
     "data": {
      "text/html": [
       "<table>\n",
       "<caption>A tibble: 6 × 2</caption>\n",
       "<thead>\n",
       "\t<tr><th scope=col>date_of_obs</th><th scope=col>tot_res</th></tr>\n",
       "\t<tr><th scope=col>&lt;date&gt;</th><th scope=col>&lt;dbl&gt;</th></tr>\n",
       "</thead>\n",
       "<tbody>\n",
       "\t<tr><td>2020-07-29</td><td>-22330.5</td></tr>\n",
       "\t<tr><td>2020-08-05</td><td>127598.0</td></tr>\n",
       "\t<tr><td>2020-08-12</td><td> 99107.0</td></tr>\n",
       "\t<tr><td>2020-08-19</td><td> 70616.0</td></tr>\n",
       "\t<tr><td>2020-08-26</td><td> 51783.0</td></tr>\n",
       "\t<tr><td>2020-09-02</td><td> 32950.0</td></tr>\n",
       "</tbody>\n",
       "</table>\n"
      ],
      "text/latex": [
       "A tibble: 6 × 2\n",
       "\\begin{tabular}{ll}\n",
       " date\\_of\\_obs & tot\\_res\\\\\n",
       " <date> & <dbl>\\\\\n",
       "\\hline\n",
       "\t 2020-07-29 & -22330.5\\\\\n",
       "\t 2020-08-05 & 127598.0\\\\\n",
       "\t 2020-08-12 &  99107.0\\\\\n",
       "\t 2020-08-19 &  70616.0\\\\\n",
       "\t 2020-08-26 &  51783.0\\\\\n",
       "\t 2020-09-02 &  32950.0\\\\\n",
       "\\end{tabular}\n"
      ],
      "text/markdown": [
       "\n",
       "A tibble: 6 × 2\n",
       "\n",
       "| date_of_obs &lt;date&gt; | tot_res &lt;dbl&gt; |\n",
       "|---|---|\n",
       "| 2020-07-29 | -22330.5 |\n",
       "| 2020-08-05 | 127598.0 |\n",
       "| 2020-08-12 |  99107.0 |\n",
       "| 2020-08-19 |  70616.0 |\n",
       "| 2020-08-26 |  51783.0 |\n",
       "| 2020-09-02 |  32950.0 |\n",
       "\n"
      ],
      "text/plain": [
       "  date_of_obs tot_res \n",
       "1 2020-07-29  -22330.5\n",
       "2 2020-08-05  127598.0\n",
       "3 2020-08-12   99107.0\n",
       "4 2020-08-19   70616.0\n",
       "5 2020-08-26   51783.0\n",
       "6 2020-09-02   32950.0"
      ]
     },
     "metadata": {},
     "output_type": "display_data"
    }
   ],
   "source": [
    "tfr %>% tail()"
   ]
  },
  {
   "cell_type": "code",
   "execution_count": 21,
   "metadata": {},
   "outputs": [],
   "source": [
    "### getting summary statistics "
   ]
  },
  {
   "cell_type": "code",
   "execution_count": 22,
   "metadata": {},
   "outputs": [],
   "source": [
    "\n",
    "# kurtosis & skewness \n",
    "getMoments <- function(df, col_string, moment) {\n",
    "    # returns skewness or kurtosis of the series\n",
    "    # ---------\n",
    "    # kurtosis: \n",
    "    # uses Fisher's method  \n",
    "    # subtracts 3 to report only excess kurtosis\n",
    "    # normal distribution has Kurtosis = 0\n",
    "    # skewness: \n",
    "    # uses Pearson's method\n",
    "\n",
    "    u_scaled <- df %>% \n",
    "                pull(all_of(col_string)) %>% \n",
    "                scale()\n",
    "    skewness_or_K <- u_scaled ** moment %>% sum()\n",
    "    # adjust with n - 1\n",
    "    skewness_or_K <- skewness_or_K / (length(u_scaled) - 1)\n",
    "\n",
    "    # return without subtraction if returning skewness\n",
    "    if (moment == 3) {\n",
    "        return (skewness_or_K)\n",
    "    }\n",
    "    # return kurtosis as only excess kurtosis  \n",
    "    return (skewness_or_K - 3)\n",
    "}\n",
    "\n",
    "getSumStats <- function(df, col_string) {\n",
    "    # focus is the column that's being summarised \n",
    "    # it's renamed so that this function can be generic / viable for more than 1 tibble  \n",
    "\n",
    "    skewness <- df %>% getMoments(col_string = col_string, moment = 3)\n",
    "    kurtosis <- df %>% getMoments(col_string = col_string, moment = 4)\n",
    "    sum_stats <- df %>% \n",
    "                    rename(focus = all_of(col_string)) %>% \n",
    "                    summarise(\n",
    "                        quantiles = t(quantile(focus)),\n",
    "                        mean = mean(focus), \n",
    "                        sd = sd(focus),\n",
    "                        mad = mad(focus),\n",
    "                        var = var(focus)) %>% \n",
    "                    t() %>% \n",
    "                    as.data.frame() %>% \n",
    "                    tibble::rownames_to_column() %>% \n",
    "                    as_tibble() %>% \n",
    "                    rename(focus = V1) %>% \n",
    "                    add_row(rowname = 'skewness', focus = skewness) %>% \n",
    "                    add_row(rowname = 'kurtosis', focus = kurtosis)\n",
    "\n",
    "    return (sum_stats)\n",
    "}\n"
   ]
  },
  {
   "cell_type": "code",
   "execution_count": 23,
   "metadata": {},
   "outputs": [
    {
     "data": {
      "text/html": [
       "<table>\n",
       "<caption>A tibble: 11 × 2</caption>\n",
       "<thead>\n",
       "\t<tr><th scope=col>rowname</th><th scope=col>pct_ch_gdp</th></tr>\n",
       "\t<tr><th scope=col>&lt;chr&gt;</th><th scope=col>&lt;dbl&gt;</th></tr>\n",
       "</thead>\n",
       "<tbody>\n",
       "\t<tr><td>quantiles.0%  </td><td>-31.400000</td></tr>\n",
       "\t<tr><td>quantiles.25% </td><td>  1.200000</td></tr>\n",
       "\t<tr><td>quantiles.50% </td><td>  3.000000</td></tr>\n",
       "\t<tr><td>quantiles.75% </td><td>  5.100000</td></tr>\n",
       "\t<tr><td>quantiles.100%</td><td> 16.700000</td></tr>\n",
       "\t<tr><td>mean          </td><td>  3.061775</td></tr>\n",
       "\t<tr><td>sd            </td><td>  4.348497</td></tr>\n",
       "\t<tr><td>mad           </td><td>  2.816940</td></tr>\n",
       "\t<tr><td>var           </td><td> 18.909424</td></tr>\n",
       "\t<tr><td>skewness      </td><td> -1.556625</td></tr>\n",
       "\t<tr><td>kurtosis      </td><td> 13.325691</td></tr>\n",
       "</tbody>\n",
       "</table>\n"
      ],
      "text/latex": [
       "A tibble: 11 × 2\n",
       "\\begin{tabular}{ll}\n",
       " rowname & pct\\_ch\\_gdp\\\\\n",
       " <chr> & <dbl>\\\\\n",
       "\\hline\n",
       "\t quantiles.0\\%   & -31.400000\\\\\n",
       "\t quantiles.25\\%  &   1.200000\\\\\n",
       "\t quantiles.50\\%  &   3.000000\\\\\n",
       "\t quantiles.75\\%  &   5.100000\\\\\n",
       "\t quantiles.100\\% &  16.700000\\\\\n",
       "\t mean           &   3.061775\\\\\n",
       "\t sd             &   4.348497\\\\\n",
       "\t mad            &   2.816940\\\\\n",
       "\t var            &  18.909424\\\\\n",
       "\t skewness       &  -1.556625\\\\\n",
       "\t kurtosis       &  13.325691\\\\\n",
       "\\end{tabular}\n"
      ],
      "text/markdown": [
       "\n",
       "A tibble: 11 × 2\n",
       "\n",
       "| rowname &lt;chr&gt; | pct_ch_gdp &lt;dbl&gt; |\n",
       "|---|---|\n",
       "| quantiles.0%   | -31.400000 |\n",
       "| quantiles.25%  |   1.200000 |\n",
       "| quantiles.50%  |   3.000000 |\n",
       "| quantiles.75%  |   5.100000 |\n",
       "| quantiles.100% |  16.700000 |\n",
       "| mean           |   3.061775 |\n",
       "| sd             |   4.348497 |\n",
       "| mad            |   2.816940 |\n",
       "| var            |  18.909424 |\n",
       "| skewness       |  -1.556625 |\n",
       "| kurtosis       |  13.325691 |\n",
       "\n"
      ],
      "text/plain": [
       "   rowname        pct_ch_gdp\n",
       "1  quantiles.0%   -31.400000\n",
       "2  quantiles.25%    1.200000\n",
       "3  quantiles.50%    3.000000\n",
       "4  quantiles.75%    5.100000\n",
       "5  quantiles.100%  16.700000\n",
       "6  mean             3.061775\n",
       "7  sd               4.348497\n",
       "8  mad              2.816940\n",
       "9  var             18.909424\n",
       "10 skewness        -1.556625\n",
       "11 kurtosis        13.325691"
      ]
     },
     "metadata": {},
     "output_type": "display_data"
    }
   ],
   "source": [
    "gdp_sum_stats <- gdp %>% getSumStats(col_string = 'pct_ch_gdp') %>% rename(pct_ch_gdp = focus)\n",
    "gdp_sum_stats"
   ]
  },
  {
   "cell_type": "code",
   "execution_count": 24,
   "metadata": {},
   "outputs": [
    {
     "data": {
      "text/html": [
       "<table>\n",
       "<caption>A tibble: 11 × 2</caption>\n",
       "<thead>\n",
       "\t<tr><th scope=col>rowname</th><th scope=col>hp_index</th></tr>\n",
       "\t<tr><th scope=col>&lt;chr&gt;</th><th scope=col>&lt;dbl&gt;</th></tr>\n",
       "</thead>\n",
       "<tbody>\n",
       "\t<tr><td>quantiles.0%  </td><td>-2.5230000</td></tr>\n",
       "\t<tr><td>quantiles.25% </td><td> 0.1052500</td></tr>\n",
       "\t<tr><td>quantiles.50% </td><td> 0.4345000</td></tr>\n",
       "\t<tr><td>quantiles.75% </td><td> 0.7945000</td></tr>\n",
       "\t<tr><td>quantiles.100%</td><td> 2.4690000</td></tr>\n",
       "\t<tr><td>mean          </td><td> 0.3856095</td></tr>\n",
       "\t<tr><td>sd            </td><td> 0.7347630</td></tr>\n",
       "\t<tr><td>mad           </td><td> 0.5144622</td></tr>\n",
       "\t<tr><td>var           </td><td> 0.5398767</td></tr>\n",
       "\t<tr><td>skewness      </td><td>-0.7839440</td></tr>\n",
       "\t<tr><td>kurtosis      </td><td> 1.8693216</td></tr>\n",
       "</tbody>\n",
       "</table>\n"
      ],
      "text/latex": [
       "A tibble: 11 × 2\n",
       "\\begin{tabular}{ll}\n",
       " rowname & hp\\_index\\\\\n",
       " <chr> & <dbl>\\\\\n",
       "\\hline\n",
       "\t quantiles.0\\%   & -2.5230000\\\\\n",
       "\t quantiles.25\\%  &  0.1052500\\\\\n",
       "\t quantiles.50\\%  &  0.4345000\\\\\n",
       "\t quantiles.75\\%  &  0.7945000\\\\\n",
       "\t quantiles.100\\% &  2.4690000\\\\\n",
       "\t mean           &  0.3856095\\\\\n",
       "\t sd             &  0.7347630\\\\\n",
       "\t mad            &  0.5144622\\\\\n",
       "\t var            &  0.5398767\\\\\n",
       "\t skewness       & -0.7839440\\\\\n",
       "\t kurtosis       &  1.8693216\\\\\n",
       "\\end{tabular}\n"
      ],
      "text/markdown": [
       "\n",
       "A tibble: 11 × 2\n",
       "\n",
       "| rowname &lt;chr&gt; | hp_index &lt;dbl&gt; |\n",
       "|---|---|\n",
       "| quantiles.0%   | -2.5230000 |\n",
       "| quantiles.25%  |  0.1052500 |\n",
       "| quantiles.50%  |  0.4345000 |\n",
       "| quantiles.75%  |  0.7945000 |\n",
       "| quantiles.100% |  2.4690000 |\n",
       "| mean           |  0.3856095 |\n",
       "| sd             |  0.7347630 |\n",
       "| mad            |  0.5144622 |\n",
       "| var            |  0.5398767 |\n",
       "| skewness       | -0.7839440 |\n",
       "| kurtosis       |  1.8693216 |\n",
       "\n"
      ],
      "text/plain": [
       "   rowname        hp_index  \n",
       "1  quantiles.0%   -2.5230000\n",
       "2  quantiles.25%   0.1052500\n",
       "3  quantiles.50%   0.4345000\n",
       "4  quantiles.75%   0.7945000\n",
       "5  quantiles.100%  2.4690000\n",
       "6  mean            0.3856095\n",
       "7  sd              0.7347630\n",
       "8  mad             0.5144622\n",
       "9  var             0.5398767\n",
       "10 skewness       -0.7839440\n",
       "11 kurtosis        1.8693216"
      ]
     },
     "metadata": {},
     "output_type": "display_data"
    }
   ],
   "source": [
    "hpi_sum_stats <- hpi %>% getSumStats(col_string = 'hp_index') %>% rename(hp_index = focus)\n",
    "hpi_sum_stats"
   ]
  },
  {
   "cell_type": "code",
   "execution_count": 25,
   "metadata": {},
   "outputs": [
    {
     "data": {
      "text/html": [
       "<table>\n",
       "<caption>A tibble: 11 × 2</caption>\n",
       "<thead>\n",
       "\t<tr><th scope=col>rowname</th><th scope=col>willreitind</th></tr>\n",
       "\t<tr><th scope=col>&lt;chr&gt;</th><th scope=col>&lt;dbl&gt;</th></tr>\n",
       "</thead>\n",
       "<tbody>\n",
       "\t<tr><td>quantiles.0%  </td><td>-1807.800000</td></tr>\n",
       "\t<tr><td>quantiles.25% </td><td>  -18.590000</td></tr>\n",
       "\t<tr><td>quantiles.50% </td><td>    2.000000</td></tr>\n",
       "\t<tr><td>quantiles.75% </td><td>   27.420000</td></tr>\n",
       "\t<tr><td>quantiles.100%</td><td>  796.700000</td></tr>\n",
       "\t<tr><td>mean          </td><td>    1.563143</td></tr>\n",
       "\t<tr><td>sd            </td><td>   85.173816</td></tr>\n",
       "\t<tr><td>mad           </td><td>   34.322190</td></tr>\n",
       "\t<tr><td>var           </td><td> 7254.578976</td></tr>\n",
       "\t<tr><td>skewness      </td><td>   -2.102417</td></tr>\n",
       "\t<tr><td>kurtosis      </td><td>   46.888655</td></tr>\n",
       "</tbody>\n",
       "</table>\n"
      ],
      "text/latex": [
       "A tibble: 11 × 2\n",
       "\\begin{tabular}{ll}\n",
       " rowname & willreitind\\\\\n",
       " <chr> & <dbl>\\\\\n",
       "\\hline\n",
       "\t quantiles.0\\%   & -1807.800000\\\\\n",
       "\t quantiles.25\\%  &   -18.590000\\\\\n",
       "\t quantiles.50\\%  &     2.000000\\\\\n",
       "\t quantiles.75\\%  &    27.420000\\\\\n",
       "\t quantiles.100\\% &   796.700000\\\\\n",
       "\t mean           &     1.563143\\\\\n",
       "\t sd             &    85.173816\\\\\n",
       "\t mad            &    34.322190\\\\\n",
       "\t var            &  7254.578976\\\\\n",
       "\t skewness       &    -2.102417\\\\\n",
       "\t kurtosis       &    46.888655\\\\\n",
       "\\end{tabular}\n"
      ],
      "text/markdown": [
       "\n",
       "A tibble: 11 × 2\n",
       "\n",
       "| rowname &lt;chr&gt; | willreitind &lt;dbl&gt; |\n",
       "|---|---|\n",
       "| quantiles.0%   | -1807.800000 |\n",
       "| quantiles.25%  |   -18.590000 |\n",
       "| quantiles.50%  |     2.000000 |\n",
       "| quantiles.75%  |    27.420000 |\n",
       "| quantiles.100% |   796.700000 |\n",
       "| mean           |     1.563143 |\n",
       "| sd             |    85.173816 |\n",
       "| mad            |    34.322190 |\n",
       "| var            |  7254.578976 |\n",
       "| skewness       |    -2.102417 |\n",
       "| kurtosis       |    46.888655 |\n",
       "\n"
      ],
      "text/plain": [
       "   rowname        willreitind \n",
       "1  quantiles.0%   -1807.800000\n",
       "2  quantiles.25%    -18.590000\n",
       "3  quantiles.50%      2.000000\n",
       "4  quantiles.75%     27.420000\n",
       "5  quantiles.100%   796.700000\n",
       "6  mean               1.563143\n",
       "7  sd                85.173816\n",
       "8  mad               34.322190\n",
       "9  var             7254.578976\n",
       "10 skewness          -2.102417\n",
       "11 kurtosis          46.888655"
      ]
     },
     "metadata": {},
     "output_type": "display_data"
    }
   ],
   "source": [
    "reit_sum_stats <- reit %>% getSumStats(col_string = 'willreitind') %>% rename(willreitind = focus)\n",
    "reit_sum_stats"
   ]
  },
  {
   "cell_type": "code",
   "execution_count": 26,
   "metadata": {},
   "outputs": [
    {
     "data": {
      "text/html": [
       "<table>\n",
       "<caption>A tibble: 11 × 2</caption>\n",
       "<thead>\n",
       "\t<tr><th scope=col>rowname</th><th scope=col>sahmrealtime</th></tr>\n",
       "\t<tr><th scope=col>&lt;chr&gt;</th><th scope=col>&lt;dbl&gt;</th></tr>\n",
       "</thead>\n",
       "<tbody>\n",
       "\t<tr><td>quantiles.0%  </td><td>-0.3700000</td></tr>\n",
       "\t<tr><td>quantiles.25% </td><td>-0.0300000</td></tr>\n",
       "\t<tr><td>quantiles.50% </td><td> 0.0300000</td></tr>\n",
       "\t<tr><td>quantiles.75% </td><td> 0.4300000</td></tr>\n",
       "\t<tr><td>quantiles.100%</td><td> 9.5000000</td></tr>\n",
       "\t<tr><td>mean          </td><td> 0.4239452</td></tr>\n",
       "\t<tr><td>sd            </td><td> 0.9695381</td></tr>\n",
       "\t<tr><td>mad           </td><td> 0.1927380</td></tr>\n",
       "\t<tr><td>var           </td><td> 0.9400042</td></tr>\n",
       "\t<tr><td>skewness      </td><td> 3.8900840</td></tr>\n",
       "\t<tr><td>kurtosis      </td><td>22.2886910</td></tr>\n",
       "</tbody>\n",
       "</table>\n"
      ],
      "text/latex": [
       "A tibble: 11 × 2\n",
       "\\begin{tabular}{ll}\n",
       " rowname & sahmrealtime\\\\\n",
       " <chr> & <dbl>\\\\\n",
       "\\hline\n",
       "\t quantiles.0\\%   & -0.3700000\\\\\n",
       "\t quantiles.25\\%  & -0.0300000\\\\\n",
       "\t quantiles.50\\%  &  0.0300000\\\\\n",
       "\t quantiles.75\\%  &  0.4300000\\\\\n",
       "\t quantiles.100\\% &  9.5000000\\\\\n",
       "\t mean           &  0.4239452\\\\\n",
       "\t sd             &  0.9695381\\\\\n",
       "\t mad            &  0.1927380\\\\\n",
       "\t var            &  0.9400042\\\\\n",
       "\t skewness       &  3.8900840\\\\\n",
       "\t kurtosis       & 22.2886910\\\\\n",
       "\\end{tabular}\n"
      ],
      "text/markdown": [
       "\n",
       "A tibble: 11 × 2\n",
       "\n",
       "| rowname &lt;chr&gt; | sahmrealtime &lt;dbl&gt; |\n",
       "|---|---|\n",
       "| quantiles.0%   | -0.3700000 |\n",
       "| quantiles.25%  | -0.0300000 |\n",
       "| quantiles.50%  |  0.0300000 |\n",
       "| quantiles.75%  |  0.4300000 |\n",
       "| quantiles.100% |  9.5000000 |\n",
       "| mean           |  0.4239452 |\n",
       "| sd             |  0.9695381 |\n",
       "| mad            |  0.1927380 |\n",
       "| var            |  0.9400042 |\n",
       "| skewness       |  3.8900840 |\n",
       "| kurtosis       | 22.2886910 |\n",
       "\n"
      ],
      "text/plain": [
       "   rowname        sahmrealtime\n",
       "1  quantiles.0%   -0.3700000  \n",
       "2  quantiles.25%  -0.0300000  \n",
       "3  quantiles.50%   0.0300000  \n",
       "4  quantiles.75%   0.4300000  \n",
       "5  quantiles.100%  9.5000000  \n",
       "6  mean            0.4239452  \n",
       "7  sd              0.9695381  \n",
       "8  mad             0.1927380  \n",
       "9  var             0.9400042  \n",
       "10 skewness        3.8900840  \n",
       "11 kurtosis       22.2886910  "
      ]
     },
     "metadata": {},
     "output_type": "display_data"
    }
   ],
   "source": [
    "sahm_sum_stats <- sahm %>% getSumStats(col_string = 'sahmrealtime') %>% rename(sahmrealtime = focus)\n",
    "sahm_sum_stats"
   ]
  },
  {
   "cell_type": "code",
   "execution_count": 27,
   "metadata": {},
   "outputs": [
    {
     "data": {
      "text/html": [
       "<table>\n",
       "<caption>A tibble: 11 × 2</caption>\n",
       "<thead>\n",
       "\t<tr><th scope=col>rowname</th><th scope=col>tpd_pctgdp</th></tr>\n",
       "\t<tr><th scope=col>&lt;chr&gt;</th><th scope=col>&lt;dbl&gt;</th></tr>\n",
       "</thead>\n",
       "<tbody>\n",
       "\t<tr><td>quantiles.0%  </td><td> -2.2323000</td></tr>\n",
       "\t<tr><td>quantiles.25% </td><td> -0.3183600</td></tr>\n",
       "\t<tr><td>quantiles.50% </td><td>  0.2550300</td></tr>\n",
       "\t<tr><td>quantiles.75% </td><td>  0.7981400</td></tr>\n",
       "\t<tr><td>quantiles.100%</td><td> 27.9293700</td></tr>\n",
       "\t<tr><td>mean          </td><td>  0.4391743</td></tr>\n",
       "\t<tr><td>sd            </td><td>  2.1435156</td></tr>\n",
       "\t<tr><td>mad           </td><td>  0.8354599</td></tr>\n",
       "\t<tr><td>var           </td><td>  4.5946589</td></tr>\n",
       "\t<tr><td>skewness      </td><td>  9.8667480</td></tr>\n",
       "\t<tr><td>kurtosis      </td><td>122.6188145</td></tr>\n",
       "</tbody>\n",
       "</table>\n"
      ],
      "text/latex": [
       "A tibble: 11 × 2\n",
       "\\begin{tabular}{ll}\n",
       " rowname & tpd\\_pctgdp\\\\\n",
       " <chr> & <dbl>\\\\\n",
       "\\hline\n",
       "\t quantiles.0\\%   &  -2.2323000\\\\\n",
       "\t quantiles.25\\%  &  -0.3183600\\\\\n",
       "\t quantiles.50\\%  &   0.2550300\\\\\n",
       "\t quantiles.75\\%  &   0.7981400\\\\\n",
       "\t quantiles.100\\% &  27.9293700\\\\\n",
       "\t mean           &   0.4391743\\\\\n",
       "\t sd             &   2.1435156\\\\\n",
       "\t mad            &   0.8354599\\\\\n",
       "\t var            &   4.5946589\\\\\n",
       "\t skewness       &   9.8667480\\\\\n",
       "\t kurtosis       & 122.6188145\\\\\n",
       "\\end{tabular}\n"
      ],
      "text/markdown": [
       "\n",
       "A tibble: 11 × 2\n",
       "\n",
       "| rowname &lt;chr&gt; | tpd_pctgdp &lt;dbl&gt; |\n",
       "|---|---|\n",
       "| quantiles.0%   |  -2.2323000 |\n",
       "| quantiles.25%  |  -0.3183600 |\n",
       "| quantiles.50%  |   0.2550300 |\n",
       "| quantiles.75%  |   0.7981400 |\n",
       "| quantiles.100% |  27.9293700 |\n",
       "| mean           |   0.4391743 |\n",
       "| sd             |   2.1435156 |\n",
       "| mad            |   0.8354599 |\n",
       "| var            |   4.5946589 |\n",
       "| skewness       |   9.8667480 |\n",
       "| kurtosis       | 122.6188145 |\n",
       "\n"
      ],
      "text/plain": [
       "   rowname        tpd_pctgdp \n",
       "1  quantiles.0%    -2.2323000\n",
       "2  quantiles.25%   -0.3183600\n",
       "3  quantiles.50%    0.2550300\n",
       "4  quantiles.75%    0.7981400\n",
       "5  quantiles.100%  27.9293700\n",
       "6  mean             0.4391743\n",
       "7  sd               2.1435156\n",
       "8  mad              0.8354599\n",
       "9  var              4.5946589\n",
       "10 skewness         9.8667480\n",
       "11 kurtosis       122.6188145"
      ]
     },
     "metadata": {},
     "output_type": "display_data"
    }
   ],
   "source": [
    "tpd_pgdp_sum_stats <- tpd_pgdp %>% getSumStats(col_string = 'tpd_pctgdp') %>% rename(tpd_pctgdp = focus)\n",
    "tpd_pgdp_sum_stats"
   ]
  },
  {
   "cell_type": "code",
   "execution_count": 28,
   "metadata": {},
   "outputs": [
    {
     "data": {
      "text/html": [
       "<table>\n",
       "<caption>A tibble: 11 × 2</caption>\n",
       "<thead>\n",
       "\t<tr><th scope=col>rowname</th><th scope=col>tot_res</th></tr>\n",
       "\t<tr><th scope=col>&lt;chr&gt;</th><th scope=col>&lt;dbl&gt;</th></tr>\n",
       "</thead>\n",
       "<tbody>\n",
       "\t<tr><td>quantiles.0%  </td><td>-2.581200e+05</td></tr>\n",
       "\t<tr><td>quantiles.25% </td><td>-4.920000e+02</td></tr>\n",
       "\t<tr><td>quantiles.50% </td><td> 0.000000e+00</td></tr>\n",
       "\t<tr><td>quantiles.75% </td><td> 5.490000e+02</td></tr>\n",
       "\t<tr><td>quantiles.100%</td><td> 6.059000e+05</td></tr>\n",
       "\t<tr><td>mean          </td><td> 1.691135e+03</td></tr>\n",
       "\t<tr><td>sd            </td><td> 3.277719e+04</td></tr>\n",
       "\t<tr><td>mad           </td><td> 7.605738e+02</td></tr>\n",
       "\t<tr><td>var           </td><td> 1.074344e+09</td></tr>\n",
       "\t<tr><td>skewness      </td><td> 4.787544e+00</td></tr>\n",
       "\t<tr><td>kurtosis      </td><td> 8.084219e+01</td></tr>\n",
       "</tbody>\n",
       "</table>\n"
      ],
      "text/latex": [
       "A tibble: 11 × 2\n",
       "\\begin{tabular}{ll}\n",
       " rowname & tot\\_res\\\\\n",
       " <chr> & <dbl>\\\\\n",
       "\\hline\n",
       "\t quantiles.0\\%   & -2.581200e+05\\\\\n",
       "\t quantiles.25\\%  & -4.920000e+02\\\\\n",
       "\t quantiles.50\\%  &  0.000000e+00\\\\\n",
       "\t quantiles.75\\%  &  5.490000e+02\\\\\n",
       "\t quantiles.100\\% &  6.059000e+05\\\\\n",
       "\t mean           &  1.691135e+03\\\\\n",
       "\t sd             &  3.277719e+04\\\\\n",
       "\t mad            &  7.605738e+02\\\\\n",
       "\t var            &  1.074344e+09\\\\\n",
       "\t skewness       &  4.787544e+00\\\\\n",
       "\t kurtosis       &  8.084219e+01\\\\\n",
       "\\end{tabular}\n"
      ],
      "text/markdown": [
       "\n",
       "A tibble: 11 × 2\n",
       "\n",
       "| rowname &lt;chr&gt; | tot_res &lt;dbl&gt; |\n",
       "|---|---|\n",
       "| quantiles.0%   | -2.581200e+05 |\n",
       "| quantiles.25%  | -4.920000e+02 |\n",
       "| quantiles.50%  |  0.000000e+00 |\n",
       "| quantiles.75%  |  5.490000e+02 |\n",
       "| quantiles.100% |  6.059000e+05 |\n",
       "| mean           |  1.691135e+03 |\n",
       "| sd             |  3.277719e+04 |\n",
       "| mad            |  7.605738e+02 |\n",
       "| var            |  1.074344e+09 |\n",
       "| skewness       |  4.787544e+00 |\n",
       "| kurtosis       |  8.084219e+01 |\n",
       "\n"
      ],
      "text/plain": [
       "   rowname        tot_res      \n",
       "1  quantiles.0%   -2.581200e+05\n",
       "2  quantiles.25%  -4.920000e+02\n",
       "3  quantiles.50%   0.000000e+00\n",
       "4  quantiles.75%   5.490000e+02\n",
       "5  quantiles.100%  6.059000e+05\n",
       "6  mean            1.691135e+03\n",
       "7  sd              3.277719e+04\n",
       "8  mad             7.605738e+02\n",
       "9  var             1.074344e+09\n",
       "10 skewness        4.787544e+00\n",
       "11 kurtosis        8.084219e+01"
      ]
     },
     "metadata": {},
     "output_type": "display_data"
    }
   ],
   "source": [
    "tfr_sum_stats <- tfr %>% getSumStats(col_string = 'tot_res') %>% rename(tot_res = focus)\n",
    "tfr_sum_stats"
   ]
  },
  {
   "cell_type": "code",
   "execution_count": null,
   "metadata": {},
   "outputs": [],
   "source": []
  }
 ],
 "metadata": {
  "kernelspec": {
   "display_name": "R",
   "language": "R",
   "name": "ir"
  },
  "language_info": {
   "codemirror_mode": "r",
   "file_extension": ".r",
   "mimetype": "text/x-r-source",
   "name": "R",
   "pygments_lexer": "r",
   "version": "4.0.2"
  }
 },
 "nbformat": 4,
 "nbformat_minor": 4
}
