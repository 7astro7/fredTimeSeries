{
 "metadata": {
  "language_info": {
   "codemirror_mode": {
    "name": "ipython",
    "version": 3
   },
   "file_extension": ".py",
   "mimetype": "text/x-python",
   "name": "python",
   "nbconvert_exporter": "python",
   "pygments_lexer": "ipython3",
   "version": "3.8.5-final"
  },
  "orig_nbformat": 2,
  "kernelspec": {
   "name": "python38564bit6d8da652811d45aeab25d341a7853b4a",
   "display_name": "Python 3.8.5 64-bit"
  }
 },
 "nbformat": 4,
 "nbformat_minor": 2,
 "cells": [
  {
   "cell_type": "code",
   "execution_count": 1,
   "metadata": {},
   "outputs": [],
   "source": [
    "import pandas as pd\n",
    "from fredapi import Fred"
   ]
  },
  {
   "cell_type": "code",
   "execution_count": 2,
   "metadata": {},
   "outputs": [],
   "source": [
    "# retrieves fred api environment variable from shell \n",
    "fred_key = !env | grep -i fred_api_key\n",
    "fred_key = fred_key[0]\n",
    "# removes identifier prefix and equals sign to isolate just the \n",
    "# key itself \n",
    "fred_key = fred_key[len(\"fred_api_key\") + 1:]"
   ]
  },
  {
   "cell_type": "code",
   "execution_count": 3,
   "metadata": {},
   "outputs": [],
   "source": [
    "fred = Fred(api_key=fred_key)\n",
    "fred_key = None"
   ]
  },
  {
   "cell_type": "code",
   "execution_count": 28,
   "metadata": {},
   "outputs": [],
   "source": [
    "def constructV(sName):\n",
    "    vInfo = fred.get_series_info(sName)\n",
    "    vSeries = fred.get_series(sName)\n",
    "    vDF = pd.DataFrame(vSeries)\n",
    "    vDF['date'] = pd.to_datetime(vDF.index)\n",
    "    colName = vInfo.title.replace(\" \", \"_\").lower()\n",
    "    vDF[colName] = vDF[0]\n",
    "    vDF = vDF.reset_index(drop = True)\n",
    "    vDF = vDF.drop(columns = 0)\n",
    "    return {'info': vInfo, 'series': vSeries, 'df': vDF}"
   ]
  },
  {
   "cell_type": "code",
   "execution_count": 29,
   "metadata": {},
   "outputs": [],
   "source": [
    "shm = constructV(\"SAHMREALTIME\")"
   ]
  },
  {
   "cell_type": "code",
   "execution_count": 30,
   "metadata": {},
   "outputs": [
    {
     "output_type": "execute_result",
     "data": {
      "text/plain": "          date  real-time_sahm_rule_recession_indicator\n0   1959-12-01                                     0.77\n1   1960-01-01                                     0.50\n2   1960-02-01                                     0.13\n3   1960-03-01                                     0.10\n4   1960-04-01                                     0.03\n..         ...                                      ...\n724 2020-04-01                                     4.00\n725 2020-05-01                                     7.27\n726 2020-06-01                                     9.50\n727 2020-07-01                                     8.00\n728 2020-08-01                                     6.37\n\n[729 rows x 2 columns]",
      "text/html": "<div>\n<style scoped>\n    .dataframe tbody tr th:only-of-type {\n        vertical-align: middle;\n    }\n\n    .dataframe tbody tr th {\n        vertical-align: top;\n    }\n\n    .dataframe thead th {\n        text-align: right;\n    }\n</style>\n<table border=\"1\" class=\"dataframe\">\n  <thead>\n    <tr style=\"text-align: right;\">\n      <th></th>\n      <th>date</th>\n      <th>real-time_sahm_rule_recession_indicator</th>\n    </tr>\n  </thead>\n  <tbody>\n    <tr>\n      <th>0</th>\n      <td>1959-12-01</td>\n      <td>0.77</td>\n    </tr>\n    <tr>\n      <th>1</th>\n      <td>1960-01-01</td>\n      <td>0.50</td>\n    </tr>\n    <tr>\n      <th>2</th>\n      <td>1960-02-01</td>\n      <td>0.13</td>\n    </tr>\n    <tr>\n      <th>3</th>\n      <td>1960-03-01</td>\n      <td>0.10</td>\n    </tr>\n    <tr>\n      <th>4</th>\n      <td>1960-04-01</td>\n      <td>0.03</td>\n    </tr>\n    <tr>\n      <th>...</th>\n      <td>...</td>\n      <td>...</td>\n    </tr>\n    <tr>\n      <th>724</th>\n      <td>2020-04-01</td>\n      <td>4.00</td>\n    </tr>\n    <tr>\n      <th>725</th>\n      <td>2020-05-01</td>\n      <td>7.27</td>\n    </tr>\n    <tr>\n      <th>726</th>\n      <td>2020-06-01</td>\n      <td>9.50</td>\n    </tr>\n    <tr>\n      <th>727</th>\n      <td>2020-07-01</td>\n      <td>8.00</td>\n    </tr>\n    <tr>\n      <th>728</th>\n      <td>2020-08-01</td>\n      <td>6.37</td>\n    </tr>\n  </tbody>\n</table>\n<p>729 rows × 2 columns</p>\n</div>"
     },
     "metadata": {},
     "execution_count": 30
    }
   ],
   "source": [
    "shm['df']"
   ]
  },
  {
   "cell_type": "code",
   "execution_count": 4,
   "metadata": {},
   "outputs": [],
   "source": [
    "shmInfo = fred.get_series_info(\"SAHMREALTIME\")\n",
    "schInfo = fred.get_series_info(\"CSUSHPISA\")\n",
    "reservesInfo = fred.get_series_info(\"TRESEGUSM052N\")\n",
    "gldInfo = fred.get_series_info(\"GOLDAMGBD228NLBM\")"
   ]
  },
  {
   "cell_type": "code",
   "execution_count": 18,
   "metadata": {},
   "outputs": [],
   "source": [
    "recPSeries = fred.get_series(\"SAHMREALTIME\")\n",
    "schSeries = fred.get_series(\"CSUSHPISA\")\n",
    "reservesSeries = fred.get_series(\"TRESEGUSM052N\")\n",
    "gldSeries = fred.get_series(\"GOLDAMGBD228NLBM\")"
   ]
  },
  {
   "cell_type": "code",
   "execution_count": 21,
   "metadata": {},
   "outputs": [],
   "source": [
    "reserves = pd.DataFrame(reservesSeries)\n",
    "reserves['date'] = pd.to_datetime(reserves.index)"
   ]
  },
  {
   "cell_type": "code",
   "execution_count": 22,
   "metadata": {},
   "outputs": [],
   "source": [
    "reservesColName = reservesInfo.title.replace(\" \", \"_\").lower()\n",
    "reserves[reservesColName] = reserves[0]"
   ]
  },
  {
   "cell_type": "code",
   "execution_count": 23,
   "metadata": {},
   "outputs": [],
   "source": [
    "reserves = reserves.reset_index(drop = True)"
   ]
  },
  {
   "cell_type": "code",
   "execution_count": 25,
   "metadata": {},
   "outputs": [],
   "source": [
    "reserves = reserves.drop(columns = 0)"
   ]
  },
  {
   "cell_type": "code",
   "execution_count": 27,
   "metadata": {},
   "outputs": [
    {
     "output_type": "execute_result",
     "data": {
      "text/plain": "       total_reserves_excluding_gold_for_united_states\ncount                                     7.700000e+02\nmean                                      4.579984e+10\nstd                                       4.304250e+10\nmin                                       6.706000e+08\n25%                                       3.761534e+09\n50%                                       3.710565e+10\n75%                                       6.740967e+10\nmax                                       1.420343e+11",
      "text/html": "<div>\n<style scoped>\n    .dataframe tbody tr th:only-of-type {\n        vertical-align: middle;\n    }\n\n    .dataframe tbody tr th {\n        vertical-align: top;\n    }\n\n    .dataframe thead th {\n        text-align: right;\n    }\n</style>\n<table border=\"1\" class=\"dataframe\">\n  <thead>\n    <tr style=\"text-align: right;\">\n      <th></th>\n      <th>total_reserves_excluding_gold_for_united_states</th>\n    </tr>\n  </thead>\n  <tbody>\n    <tr>\n      <th>count</th>\n      <td>7.700000e+02</td>\n    </tr>\n    <tr>\n      <th>mean</th>\n      <td>4.579984e+10</td>\n    </tr>\n    <tr>\n      <th>std</th>\n      <td>4.304250e+10</td>\n    </tr>\n    <tr>\n      <th>min</th>\n      <td>6.706000e+08</td>\n    </tr>\n    <tr>\n      <th>25%</th>\n      <td>3.761534e+09</td>\n    </tr>\n    <tr>\n      <th>50%</th>\n      <td>3.710565e+10</td>\n    </tr>\n    <tr>\n      <th>75%</th>\n      <td>6.740967e+10</td>\n    </tr>\n    <tr>\n      <th>max</th>\n      <td>1.420343e+11</td>\n    </tr>\n  </tbody>\n</table>\n</div>"
     },
     "metadata": {},
     "execution_count": 27
    }
   ],
   "source": [
    "reserves.describe()"
   ]
  }
 ]
}